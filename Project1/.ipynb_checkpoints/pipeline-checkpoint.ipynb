{
 "cells": [
  {
   "cell_type": "code",
   "execution_count": null,
   "metadata": {},
   "outputs": [],
   "source": [
    "from sklearn.feature_extraction.text import TfidfVectorizer\n",
    "from sklearn.naive_bayes import MultinomialNB\n",
    "from sklearn.svm import LinearSVC\n",
    "from sklearn.linear_model import LogisticRegression\n",
    "from sklearn.pipeline import Pipeline\n",
    "from sklearn.model_selection import GridSearchCV\n",
    "\n",
    "svc_gamma = 1\n",
    "best_l1_regularizer = None\n",
    "best_l2_regularizer = None\n",
    "\n",
    "models = {\n",
    "    'MultinomialNB': MultinomialNB(),\n",
    "    'LogisticRegression': LogisticRegression(),\n",
    "    'SVC': LinearSVC(C = svc_gamma)\n",
    "}\n",
    "\n",
    "parameters = {\n",
    "    'MultinomialNB': {},\n",
    "    'SVC': {},\n",
    "    'LogisticRegression': [\n",
    "        {'penalty': ['l1'], 'C': [best_l1_regularizer]},\n",
    "        {'pentaly': ['l2l'], 'C': [best_l2_regularizer]}\n",
    "    ]\n",
    "}\n",
    "\n",
    "class ModelSelector:\n",
    "    \n",
    "    def __init__(self, models, params):\n",
    "        self.models = models\n",
    "        self.params = params\n",
    "        self.grid_searches = {}\n",
    "        \n",
    "    def fit(X, y, cv = 5, verbose = 1):\n",
    "        for k in self.models:\n",
    "            print(\"Running grid search for: \" + k)\n",
    "            model = self.models[k]\n",
    "            params = self.params[k]\n",
    "            gs = GridSearchCV(model, params, cv=cv,\n",
    "                              verbose=verbose, scoring=None, refit=False,\n",
    "                              return_train_score=True)\n",
    "            gs.fit(X, y)\n",
    "            self.grid_searches[k] = gs"
   ]
  }
 ],
 "metadata": {
  "kernelspec": {
   "display_name": "Python 3",
   "language": "python",
   "name": "python3"
  },
  "language_info": {
   "codemirror_mode": {
    "name": "ipython",
    "version": 3
   },
   "file_extension": ".py",
   "mimetype": "text/x-python",
   "name": "python",
   "nbconvert_exporter": "python",
   "pygments_lexer": "ipython3",
   "version": "3.7.3"
  }
 },
 "nbformat": 4,
 "nbformat_minor": 2
}
