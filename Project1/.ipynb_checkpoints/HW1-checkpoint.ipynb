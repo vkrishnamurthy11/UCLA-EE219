{
 "cells": [
  {
   "cell_type": "code",
   "execution_count": 1,
   "metadata": {},
   "outputs": [],
   "source": [
    "import numpy as np\n",
    "np.random.seed(42)\n",
    "import random\n",
    "random.seed(42)\n",
    "from collections import Counter\n",
    "import operator\n",
    "import matplotlib.pyplot as plt\n",
    "\n",
    "from sklearn.datasets import fetch_20newsgroups"
   ]
  },
  {
   "cell_type": "code",
   "execution_count": 231,
   "metadata": {},
   "outputs": [
    {
     "name": "stdout",
     "output_type": "stream",
     "text": [
      "['talk.religion.misc', 'talk.politics.misc', 'alt.atheism', 'talk.politics.guns', 'talk.politics.mideast', 'comp.sys.mac.hardware', 'comp.graphics', 'misc.forsale', 'comp.sys.ibm.pc.hardware', 'comp.os.ms-windows.misc', 'sci.electronics', 'sci.space', 'comp.windows.x', 'rec.autos', 'sci.med', 'sci.crypt', 'rec.sport.baseball', 'rec.motorcycles', 'soc.religion.christian', 'rec.sport.hockey']\n",
      "[377, 465, 480, 546, 564, 578, 584, 585, 590, 591, 591, 593, 593, 594, 594, 595, 597, 598, 599, 600]\n"
     ]
    },
    {
     "data": {
      "image/png": "[encoded data removed]",
      "text/plain": [
       "<Figure size 432x288 with 1 Axes>"
      ]
     },
     "metadata": {
      "needs_background": "light"
     },
     "output_type": "display_data"
    }
   ],
   "source": [
    "#Question 1\n",
    "#Histogram containing the total number of training documents per category.\n",
    "\n",
    "newsgroups_train = fetch_20newsgroups(subset='train')\n",
    "newsgroups_test = fetch_20newsgroups(subset='test')\n",
    "targets = newsgroups_train.target\n",
    "target_names = newsgroups_train.target_names\n",
    "target_frequency = Counter(targets)\n",
    "target_frequency = sorted(target_frequency.items(), key=operator.itemgetter(1))\n",
    "X = []\n",
    "Y = []\n",
    "\n",
    "for e in target_frequency:\n",
    "    X.append(target_names[e[0]])\n",
    "    Y.append(e[1])\n",
    "print(X)\n",
    "print(Y)\n",
    "\n",
    "plt.bar(X, Y, align='center', alpha=0.5)\n",
    "plt.xticks(rotation=90)\n",
    "plt.ylabel(\"Number of Training Documents\")\n",
    "plt.title(\"Number of Training Documents per Category\")\n",
    "\n",
    "plt.show()\n"
   ]
  },
  {
   "cell_type": "code",
   "execution_count": 28,
   "metadata": {},
   "outputs": [
    {
     "name": "stdout",
     "output_type": "stream",
     "text": [
      "['11', '15', '1qvfo9innc3s', '60s', '70s', '800', 'acceleration', 'adapters', 'add', 'addition', 'answered', 'article', 'attained', 'base', 'body', 'brave', 'bricklin', 'brief', 'brought', 'bumper', 'called', 'car', 'cards', 'carson', 'clock', 'college', 'cpu', 'day', 'days', 'detailing', 'disk', 'door', 'doors', 'early', 'edu', 'engine', 'enlighten', 'especially', 'experiences', 'fair', 'final', 'floppies', 'floppy', 'functionality', 'funky', 'guy', 'guykuo', 'haven', 'heat', 'history', 'host', 'hour', 'il', 'info', 'keywords', 'know', 'knowledge', 'kuo', 'late', 'lerxst', 'lines', 'looked', 'looking', 'mail', 'maryland', 'message', 'model', 'neighborhood', 'network', 'nntp', 'number', 'organization', 'oscillator', 'park', 'poll', 'posting', 'procedure', 'production', 'rac3', 'rated', 'really', 'reports', 'requested', 'rest', 'saw', 'send', 'separate', 'shared', 'shelley', 'si', 'sinks', 'small', 'souls', 'specs', 'speed', 'sports', 'subject', 'summarizing', 'summary', 'tellme', 'thanks', 'thing', 'umd', 'university', 'upgrade', 'upgraded', 'usage', 'wam', 'washington', 'wondering', 'years']   (0, 59)\t2\n",
      "  (0, 107)\t2\n",
      "  (0, 102)\t2\n",
      "  (0, 34)\t2\n",
      "  (0, 101)\t1\n",
      "  (0, 96)\t1\n",
      "  (0, 21)\t5\n",
      "  (0, 69)\t1\n",
      "  (0, 75)\t1\n",
      "  (0, 50)\t1\n",
      "  (0, 78)\t1\n",
      "  (0, 71)\t1\n",
      "  (0, 103)\t1\n",
      "  (0, 64)\t1\n",
      "  (0, 25)\t1\n",
      "  (0, 73)\t1\n",
      "  (0, 60)\t1\n",
      "  (0, 1)\t1\n",
      "  (0, 109)\t1\n",
      "  (0, 36)\t1\n",
      "  (0, 84)\t1\n",
      "  (0, 27)\t1\n",
      "  (0, 31)\t1\n",
      "  (0, 95)\t1\n",
      "  (0, 61)\t1\n",
      "  :\t:\n",
      "  (1, 94)\t2\n",
      "  (1, 12)\t1\n",
      "  (1, 26)\t1\n",
      "  (1, 79)\t1\n",
      "  (1, 8)\t2\n",
      "  (1, 22)\t1\n",
      "  (1, 7)\t1\n",
      "  (1, 48)\t1\n",
      "  (1, 90)\t1\n",
      "  (1, 51)\t1\n",
      "  (1, 106)\t1\n",
      "  (1, 42)\t1\n",
      "  (1, 30)\t1\n",
      "  (1, 43)\t1\n",
      "  (1, 5)\t1\n",
      "  (1, 41)\t1\n",
      "  (1, 37)\t1\n",
      "  (1, 82)\t1\n",
      "  (1, 97)\t1\n",
      "  (1, 28)\t1\n",
      "  (1, 68)\t1\n",
      "  (1, 56)\t1\n",
      "  (1, 13)\t1\n",
      "  (1, 47)\t1\n",
      "  (1, 10)\t1\n"
     ]
    }
   ],
   "source": [
    "from sklearn.feature_extraction.text import CountVectorizer\n",
    "\n",
    "vectorizer = CountVectorizer(stop_words='english')\n",
    "X = vectorizer.fit_transform(newsgroups_train.data[:2])\n",
    "# print(vectorizer.get_feature_names(), X)"
   ]
  },
  {
   "cell_type": "code",
   "execution_count": 98,
   "metadata": {},
   "outputs": [
    {
     "name": "stderr",
     "output_type": "stream",
     "text": [
      "[nltk_data] Downloading package wordnet to\n",
      "[nltk_data]     C:\\Users\\meet1\\AppData\\Roaming\\nltk_data...\n",
      "[nltk_data]   Package wordnet is already up-to-date!\n",
      "[nltk_data] Downloading package stopwords to\n",
      "[nltk_data]     C:\\Users\\meet1\\AppData\\Roaming\\nltk_data...\n",
      "[nltk_data]   Package stopwords is already up-to-date!\n"
     ]
    }
   ],
   "source": [
    "import re\n",
    "from nltk.stem import WordNetLemmatizer\n",
    "from nltk import word_tokenize\n",
    "import nltk\n",
    "nltk.download('wordnet')\n",
    "nltk.download('stopwords')\n",
    "\n",
    "lemmatizer = WordNetLemmatizer()\n",
    "stop_words = set(nltk.corpus.stopwords.words('english'))\n",
    "\n",
    "def no_num_tokenizer(document):\n",
    "    unlemmatized_words = [word for word in re.split('[^a-zA-Z]+', document) if len(word)>2]\n",
    "    words = [lemmatizer.lemmatize(word) for word in unlemmatized_words if word not in stop_words]\n",
    "    return words"
   ]
  },
  {
   "cell_type": "markdown",
   "metadata": {},
   "source": [
    "This is a really bad lemmatizer. It does nothing except for changing plurals to their singular form"
   ]
  },
  {
   "cell_type": "code",
   "execution_count": 165,
   "metadata": {},
   "outputs": [],
   "source": [
    "from sklearn.feature_extraction.text import CountVectorizer, TfidfVectorizer\n",
    "from nltk.stem import WordNetLemmatizer\n",
    "\n",
    "vectorizer = CountVectorizer(stop_words=None, tokenizer=no_num_tokenizer, min_df=3)\n",
    "tf_train = vectorizer.fit_transform(newsgroups_train.data)\n",
    "\n",
    "tf_test = vectorizer.fit_transform(newsgroups_test.data)"
   ]
  },
  {
   "cell_type": "code",
   "execution_count": 206,
   "metadata": {},
   "outputs": [],
   "source": [
    "df_train = (tf_train>0).sum(axis=0).flatten()\n",
    "idf_train = np.log(tf_train.shape[0]/df_train)+1\n",
    "\n",
    "# df_test = (tf_test>0).sum(axis=0).flatten()\n",
    "# idf_test = np.log(tf_train.shape[0]/df_train)+1\n",
    "# https://stats.stackexchange.com/questions/154660/tfidfvectorizer-should-it-be-used-on-train-only-or-traintest\n",
    "\n",
    "df_test = (tf_test>0).sum(axis=0).flatten()\n",
    "idf_test = np.log(tf_test.shape[0]/df_test)+1"
   ]
  },
  {
   "cell_type": "code",
   "execution_count": 214,
   "metadata": {},
   "outputs": [],
   "source": [
    "tf_idf_train = tf_train.copy().astype(float)\n",
    "\n",
    "for i in range(tf_train.shape[1]):\n",
    "    tf_idf_train[:,i] = tf_train[:,i] * idf_train[0,i]\n",
    "\n",
    "print(tf_idf_train.shape)"
   ]
  },
  {
   "cell_type": "code",
   "execution_count": null,
   "metadata": {
    "collapsed": true
   },
   "outputs": [],
   "source": [
    "tf_idf_test = tf_test.copy().astype(float)\n",
    "\n",
    "for i in range(tf_test.shape[1]):\n",
    "    tf_idf_test[:,i] = tf_test[:,i] * idf_test[0,i]\n",
    "\n",
    "print(tf_idf_test.shape)"
   ]
  }
 ],
 "metadata": {
  "kernelspec": {
   "display_name": "Python 3",
   "language": "python",
   "name": "python3"
  },
  "language_info": {
   "codemirror_mode": {
    "name": "ipython",
    "version": 3
   },
   "file_extension": ".py",
   "mimetype": "text/x-python",
   "name": "python",
   "nbconvert_exporter": "python",
   "pygments_lexer": "ipython3",
   "version": "3.7.3"
  }
 },
 "nbformat": 4,
 "nbformat_minor": 2
}
