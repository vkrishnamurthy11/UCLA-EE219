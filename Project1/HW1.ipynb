{
 "cells": [
  {
   "cell_type": "code",
   "execution_count": 2,
   "metadata": {},
   "outputs": [],
   "source": [
    "import numpy as np\n",
    "np.random.seed(42)\n",
    "import random\n",
    "random.seed(42)\n",
    "from collections import Counter\n",
    "import operator\n",
    "import matplotlib.pyplot as plt\n",
    "from scipy.sparse.linalg import svds as svd\n",
    "\n",
    "from sklearn.decomposition import NMF\n",
    "\n",
    "from sklearn.datasets import fetch_20newsgroups\n",
    "from scipy.sparse.linalg import norm\n",
    "from scipy.sparse import csr_matrix as matrix\n",
    "\n",
    "# question 4\n",
    "from sklearn.svm import SVC\n",
    "from sklearn.metrics import f1_score\n",
    "from sklearn.metrics import precision_score\n",
    "from sklearn.metrics import recall_score\n",
    "from sklearn.metrics import roc_curve\n",
    "from sklearn.model_selection import cross_val_score\n",
    "from sklearn.model_selection import KFold\n",
    "import math"
   ]
  },
  {
   "cell_type": "code",
   "execution_count": 4,
   "metadata": {},
   "outputs": [],
   "source": [
    "#Question 1\n",
    "#Histogram containing the total number of training documents per category.\n",
    "\n",
    "newsgroups_train = fetch_20newsgroups(subset='train')\n",
    "newsgroups_test = fetch_20newsgroups(subset='test')"
   ]
  },
  {
   "cell_type": "code",
   "execution_count": 43,
   "metadata": {},
   "outputs": [
    {
     "data": {
      "image/png": "[encoded data removed]",
      "text/plain": [
       "<Figure size 432x288 with 1 Axes>"
      ]
     },
     "metadata": {
      "needs_background": "light"
     },
     "output_type": "display_data"
    }
   ],
   "source": [
    "targets = newsgroups_train.target\n",
    "target_names = newsgroups_train.target_names\n",
    "target_frequency = Counter(targets)\n",
    "target_frequency = sorted(target_frequency.items(), key=operator.itemgetter(1))\n",
    "labels = []\n",
    "freqs = []\n",
    "\n",
    "for e in target_frequency:\n",
    "    labels.append(target_names[e[0]])\n",
    "    freqs.append(e[1])\n",
    "# print(X)\n",
    "# print(Y)\n",
    "\n",
    "plt.bar(labels, freqs, align='center', alpha=0.5)\n",
    "plt.xticks(rotation=90)\n",
    "plt.ylabel(\"Number of Training Documents\")\n",
    "plt.title(\"Number of Training Documents per Category\")\n",
    "\n",
    "plt.show()"
   ]
  },
  {
   "cell_type": "code",
   "execution_count": 5,
   "metadata": {},
   "outputs": [],
   "source": [
    "from sklearn.feature_extraction.text import CountVectorizer\n",
    "\n",
    "vectorizer = CountVectorizer(stop_words='english')\n",
    "X = vectorizer.fit_transform(newsgroups_train.data[:2])\n",
    "# print(vectorizer.get_feature_names(), X)"
   ]
  },
  {
   "cell_type": "code",
   "execution_count": null,
   "metadata": {},
   "outputs": [],
   "source": [
    "import re\n",
    "from nltk.stem import WordNetLemmatizer\n",
    "from nltk import word_tokenize\n",
    "import nltk\n",
    "nltk.download('wordnet')\n",
    "nltk.download('stopwords')"
   ]
  },
  {
   "cell_type": "code",
   "execution_count": 7,
   "metadata": {},
   "outputs": [],
   "source": [
    "lemmatizer = WordNetLemmatizer()\n",
    "stop_words = set(nltk.corpus.stopwords.words('english'))\n",
    "\n",
    "def no_num_tokenizer(document):\n",
    "    unlemmatized_words = [word for word in re.split('[^a-zA-Z]+', document) if len(word)>2]\n",
    "    words = [lemmatizer.lemmatize(word) for word in unlemmatized_words if word not in stop_words]\n",
    "    return words"
   ]
  },
  {
   "cell_type": "markdown",
   "metadata": {},
   "source": [
    "This is a really bad lemmatizer. It does nothing except for changing plurals to their singular form"
   ]
  },
  {
   "cell_type": "code",
   "execution_count": 8,
   "metadata": {},
   "outputs": [],
   "source": [
    "from sklearn.feature_extraction.text import CountVectorizer, TfidfVectorizer\n",
    "from nltk.stem import WordNetLemmatizer\n",
    "\n",
    "vectorizer = CountVectorizer(stop_words=None, tokenizer=no_num_tokenizer, min_df=3)\n",
    "tf_train = vectorizer.fit_transform(newsgroups_train.data)\n",
    "\n",
    "tf_test = vectorizer.transform(newsgroups_test.data)"
   ]
  },
  {
   "cell_type": "code",
   "execution_count": 9,
   "metadata": {},
   "outputs": [],
   "source": [
    "df_train = (tf_train>0).sum(axis=0).flatten()\n",
    "idf_train = np.log(tf_train.shape[0]/df_train)+1\n",
    "\n",
    "# df_test = (tf_test>0).sum(axis=0).flatten()\n",
    "# idf_test = np.log(tf_train.shape[0]/df_train)+1\n",
    "# https://stats.stackexchange.com/questions/154660/tfidfvectorizer-should-it-be-used-on-train-only-or-traintest\n",
    "\n",
    "df_test = (tf_test>0).sum(axis=0).flatten()\n",
    "# idf_test = np.log(tf_train.shape[0]/df_test)+1"
   ]
  },
  {
   "cell_type": "code",
   "execution_count": 10,
   "metadata": {},
   "outputs": [
    {
     "name": "stdout",
     "output_type": "stream",
     "text": [
      "(11314, 29930)\n"
     ]
    }
   ],
   "source": [
    "tf_idf_train = tf_train.copy().astype(float)\n",
    "\n",
    "for i in range(tf_train.shape[1]):\n",
    "    tf_idf_train[:,i] = tf_train[:,i] * idf_train[0,i]\n",
    "\n",
    "print(tf_idf_train.shape)"
   ]
  },
  {
   "cell_type": "code",
   "execution_count": 11,
   "metadata": {},
   "outputs": [
    {
     "name": "stdout",
     "output_type": "stream",
     "text": [
      "(7532, 29930)\n"
     ]
    }
   ],
   "source": [
    "tf_idf_test = tf_test.copy().astype(float)\n",
    "\n",
    "for i in range(tf_test.shape[1]):\n",
    "    tf_idf_test[:,i] = tf_test[:,i] * idf_train[0,i]\n",
    "\n",
    "print(tf_idf_test.shape)"
   ]
  },
  {
   "cell_type": "code",
   "execution_count": 12,
   "metadata": {},
   "outputs": [],
   "source": [
    "# np.random.shuffle(tf_idf_train)"
   ]
  },
  {
   "cell_type": "code",
   "execution_count": 13,
   "metadata": {},
   "outputs": [],
   "source": [
    "X_train = tf_idf_train\n",
    "X_test = tf_idf_test\n",
    "\n",
    "k = 50\n",
    "\n",
    "Uk, s, VT = svd(X_train,k=k) #X is TF-IDF matrix from problem 2\n",
    "# s[::-1].sort() # use this method or the one below\n",
    "\n",
    "# Vk = VT.transpose()\n",
    "\n",
    "\n",
    "X_train_lsa = Uk.dot(np.diag(s).dot(VT))"
   ]
  },
  {
   "cell_type": "code",
   "execution_count": 14,
   "metadata": {},
   "outputs": [],
   "source": [
    "#NMF\n",
    "# https://scikit-learn.org/stable/modules/generated/sklearn.decomposition.NMF.html\n",
    "model = NMF(n_components=k, init='random', random_state=0)\n",
    "W = model.fit_transform(X_train)\n",
    "H = model.components_\n",
    "\n",
    "X_train_nmf = np.matmul(W, H)"
   ]
  },
  {
   "cell_type": "code",
   "execution_count": 15,
   "metadata": {},
   "outputs": [
    {
     "ename": "MemoryError",
     "evalue": "Unable to allocate 5.05 GiB for an array with shape (338628020, 2) and data type int64",
     "output_type": "error",
     "traceback": [
      "\u001b[1;31m---------------------------------------------------------------------------\u001b[0m",
      "\u001b[1;31mMemoryError\u001b[0m                               Traceback (most recent call last)",
      "\u001b[1;32m<ipython-input-15-ceacf512df1a>\u001b[0m in \u001b[0;36m<module>\u001b[1;34m\u001b[0m\n\u001b[0;32m     11\u001b[0m \u001b[1;31m#         fnorm_nmf += (X_train[i,j]-X_train_nmf[i,j])**2\u001b[0m\u001b[1;33m\u001b[0m\u001b[1;33m\u001b[0m\u001b[1;33m\u001b[0m\u001b[0m\n\u001b[0;32m     12\u001b[0m \u001b[1;33m\u001b[0m\u001b[0m\n\u001b[1;32m---> 13\u001b[1;33m \u001b[0mnorm\u001b[0m\u001b[1;33m(\u001b[0m\u001b[1;33m(\u001b[0m\u001b[0mmatrix\u001b[0m\u001b[1;33m(\u001b[0m\u001b[0mX_train_lsa\u001b[0m\u001b[1;33m)\u001b[0m\u001b[1;33m-\u001b[0m\u001b[0mmatrix\u001b[0m\u001b[1;33m(\u001b[0m\u001b[0mX_train\u001b[0m\u001b[1;33m)\u001b[0m\u001b[1;33m)\u001b[0m\u001b[1;33m,\u001b[0m \u001b[0mord\u001b[0m\u001b[1;33m=\u001b[0m\u001b[1;34m'fro'\u001b[0m\u001b[1;33m)\u001b[0m\u001b[1;33m\u001b[0m\u001b[1;33m\u001b[0m\u001b[0m\n\u001b[0m\u001b[0;32m     14\u001b[0m \u001b[1;33m\u001b[0m\u001b[0m\n\u001b[0;32m     15\u001b[0m \u001b[1;31m# X_train_nmf.shape\u001b[0m\u001b[1;33m\u001b[0m\u001b[1;33m\u001b[0m\u001b[1;33m\u001b[0m\u001b[0m\n",
      "\u001b[1;32mc:\\program files\\python37\\lib\\site-packages\\scipy\\sparse\\compressed.py\u001b[0m in \u001b[0;36m__init__\u001b[1;34m(self, arg1, shape, dtype, copy)\u001b[0m\n\u001b[0;32m     86\u001b[0m                                  \"\".format(self.format))\n\u001b[0;32m     87\u001b[0m             \u001b[1;32mfrom\u001b[0m \u001b[1;33m.\u001b[0m\u001b[0mcoo\u001b[0m \u001b[1;32mimport\u001b[0m \u001b[0mcoo_matrix\u001b[0m\u001b[1;33m\u001b[0m\u001b[1;33m\u001b[0m\u001b[0m\n\u001b[1;32m---> 88\u001b[1;33m             \u001b[0mself\u001b[0m\u001b[1;33m.\u001b[0m\u001b[0m_set_self\u001b[0m\u001b[1;33m(\u001b[0m\u001b[0mself\u001b[0m\u001b[1;33m.\u001b[0m\u001b[0m__class__\u001b[0m\u001b[1;33m(\u001b[0m\u001b[0mcoo_matrix\u001b[0m\u001b[1;33m(\u001b[0m\u001b[0marg1\u001b[0m\u001b[1;33m,\u001b[0m \u001b[0mdtype\u001b[0m\u001b[1;33m=\u001b[0m\u001b[0mdtype\u001b[0m\u001b[1;33m)\u001b[0m\u001b[1;33m)\u001b[0m\u001b[1;33m)\u001b[0m\u001b[1;33m\u001b[0m\u001b[1;33m\u001b[0m\u001b[0m\n\u001b[0m\u001b[0;32m     89\u001b[0m \u001b[1;33m\u001b[0m\u001b[0m\n\u001b[0;32m     90\u001b[0m         \u001b[1;31m# Read matrix dimensions given, if any\u001b[0m\u001b[1;33m\u001b[0m\u001b[1;33m\u001b[0m\u001b[1;33m\u001b[0m\u001b[0m\n",
      "\u001b[1;32mc:\\program files\\python37\\lib\\site-packages\\scipy\\sparse\\coo.py\u001b[0m in \u001b[0;36m__init__\u001b[1;34m(self, arg1, shape, dtype, copy)\u001b[0m\n\u001b[0;32m    189\u001b[0m                                          (shape, self._shape))\n\u001b[0;32m    190\u001b[0m \u001b[1;33m\u001b[0m\u001b[0m\n\u001b[1;32m--> 191\u001b[1;33m                 \u001b[0mself\u001b[0m\u001b[1;33m.\u001b[0m\u001b[0mrow\u001b[0m\u001b[1;33m,\u001b[0m \u001b[0mself\u001b[0m\u001b[1;33m.\u001b[0m\u001b[0mcol\u001b[0m \u001b[1;33m=\u001b[0m \u001b[0mM\u001b[0m\u001b[1;33m.\u001b[0m\u001b[0mnonzero\u001b[0m\u001b[1;33m(\u001b[0m\u001b[1;33m)\u001b[0m\u001b[1;33m\u001b[0m\u001b[1;33m\u001b[0m\u001b[0m\n\u001b[0m\u001b[0;32m    192\u001b[0m                 \u001b[0mself\u001b[0m\u001b[1;33m.\u001b[0m\u001b[0mdata\u001b[0m \u001b[1;33m=\u001b[0m \u001b[0mM\u001b[0m\u001b[1;33m[\u001b[0m\u001b[0mself\u001b[0m\u001b[1;33m.\u001b[0m\u001b[0mrow\u001b[0m\u001b[1;33m,\u001b[0m \u001b[0mself\u001b[0m\u001b[1;33m.\u001b[0m\u001b[0mcol\u001b[0m\u001b[1;33m]\u001b[0m\u001b[1;33m\u001b[0m\u001b[1;33m\u001b[0m\u001b[0m\n\u001b[0;32m    193\u001b[0m                 \u001b[0mself\u001b[0m\u001b[1;33m.\u001b[0m\u001b[0mhas_canonical_format\u001b[0m \u001b[1;33m=\u001b[0m \u001b[1;32mTrue\u001b[0m\u001b[1;33m\u001b[0m\u001b[1;33m\u001b[0m\u001b[0m\n",
      "\u001b[1;31mMemoryError\u001b[0m: Unable to allocate 5.05 GiB for an array with shape (338628020, 2) and data type int64"
     ]
    }
   ],
   "source": [
    "# n,m = X_train.shape\n",
    "\n",
    "# fnorm_lsa = 0.0\n",
    "# fnorm_nmf = 0.0\n",
    "\n",
    "# for i in range(n):\n",
    "    \n",
    "#     print(i)\n",
    "#     for j in range(m):\n",
    "#         fnorm_lsa += (X_train[i,j]-X_train_lsa[i,j])**2\n",
    "#         fnorm_nmf += (X_train[i,j]-X_train_nmf[i,j])**2\n",
    "\n",
    "norm((matrix(X_train_lsa)-matrix(X_train)), ord='fro')\n",
    "\n",
    "# X_train_nmf.shape"
   ]
  },
  {
   "cell_type": "code",
   "execution_count": 20,
   "metadata": {},
   "outputs": [],
   "source": [
    "X_train_reduced = X_train.dot(VT.T)\n",
    "X_test_reduced = X_test.dot(VT.T)"
   ]
  },
  {
   "cell_type": "code",
   "execution_count": 23,
   "metadata": {},
   "outputs": [],
   "source": [
    "#Problem 4 SVM\n",
    "\n",
    "Train_X = X_train_reduced\n",
    "Train_Y = newsgroups_train.target\n",
    "Test_X = X_test_reduced\n",
    "Test_Y = newsgroups_test.target"
   ]
  },
  {
   "cell_type": "code",
   "execution_count": 132,
   "metadata": {},
   "outputs": [
    {
     "data": {
      "text/plain": [
       "SVC(C=1.0, break_ties=False, cache_size=200, class_weight=None, coef0=0.0,\n",
       "    decision_function_shape='ovr', degree=3, gamma=0.0001, kernel='rbf',\n",
       "    max_iter=-1, probability=False, random_state=None, shrinking=True,\n",
       "    tol=0.001, verbose=False)"
      ]
     },
     "execution_count": 132,
     "metadata": {},
     "output_type": "execute_result"
    }
   ],
   "source": [
    "soft_svm = SVC(gamma = 0.0001)\n",
    "soft_svm.fit(Train_X, Train_Y)"
   ]
  },
  {
   "cell_type": "code",
   "execution_count": 143,
   "metadata": {},
   "outputs": [
    {
     "data": {
      "text/plain": [
       "0.5167933533675093"
      ]
     },
     "execution_count": 143,
     "metadata": {},
     "output_type": "execute_result"
    }
   ],
   "source": [
    "soft_svm.score(Train_X, Train_Y)"
   ]
  },
  {
   "cell_type": "code",
   "execution_count": 138,
   "metadata": {},
   "outputs": [
    {
     "name": "stdout",
     "output_type": "stream",
     "text": [
      "The soft SVM accuracy is: 0.459506107275624\n",
      "Soft SVM f1 score: 0.459506107275624\n"
     ]
    }
   ],
   "source": [
    "Y_predict_soft = soft_svm.predict(Test_X)\n",
    "soft_accuracy = soft_svm.score(Test_X, Test_Y)\n",
    "soft_precision, soft_recall, soft_f1 = precision_score(Test_Y, Y_predict_soft, average='micro'), recall_score(Test_Y, Y_predict_soft, average='micro'), f1_score(Test_Y, Y_predict_soft, average='micro')\n",
    "# soft_fpr, soft_tpr, soft_thresholds = roc_curve(Test_Y, Y_predict_soft)\n",
    "print(\"The soft SVM accuracy is:\", soft_accuracy)\n",
    "print(\"Soft SVM f1 score:\", soft_f1)"
   ]
  },
  {
   "cell_type": "code",
   "execution_count": 141,
   "metadata": {},
   "outputs": [
    {
     "data": {
      "text/plain": [
       "SVC(C=1.0, break_ties=False, cache_size=200, class_weight=None, coef0=0.0,\n",
       "    decision_function_shape='ovr', degree=3, gamma=1000, kernel='rbf',\n",
       "    max_iter=-1, probability=False, random_state=None, shrinking=True,\n",
       "    tol=0.001, verbose=False)"
      ]
     },
     "execution_count": 141,
     "metadata": {},
     "output_type": "execute_result"
    }
   ],
   "source": [
    "hard_svm = SVC(gamma = 1000)\n",
    "hard_svm.fit(Train_X, Train_Y)"
   ]
  },
  {
   "cell_type": "code",
   "execution_count": 142,
   "metadata": {},
   "outputs": [
    {
     "name": "stdout",
     "output_type": "stream",
     "text": [
      "The hard SVM accuracy is: 0.054168879447689854\n",
      "Hard SVM f1 score: 0.054168879447689854\n"
     ]
    }
   ],
   "source": [
    "Y_predict_hard = hard_svm.predict(Test_X)\n",
    "hard_accuracy = hard_svm.score(Test_X, Test_Y)\n",
    "hard_precision, hard_recall, hard_f1 = precision_score(Test_Y, Y_predict_hard, average='micro'), recall_score(Test_Y, Y_predict_hard, average='micro'), f1_score(Test_Y, Y_predict_hard, average='micro')\n",
    "# hard_fpr, hard_tpr, hard_thresholds = metrics.roc_curve(Test_Y, Y_predict_hard)\n",
    "\n",
    "print(\"The hard SVM accuracy is:\", hard_accuracy)\n",
    "print(\"Hard SVM f1 score:\", hard_f1)"
   ]
  },
  {
   "cell_type": "code",
   "execution_count": null,
   "metadata": {},
   "outputs": [],
   "source": [
    "best_score = 0.0\n",
    "best_gamma = None\n",
    "best_classifier = None\n",
    "\n",
    "kf = KFold(n_splits=5)\n",
    "for i in range(-3, 4, 1):\n",
    "    scores = []\n",
    "    gamma = pow(10, i)\n",
    "    for train_index, test_index in kf.split(Train_X):\n",
    "        X_train, X_test = Train_X[train_index], Train_X[test_index]\n",
    "        y_train, y_test = Train_Y[train_index], Train_Y[test_index]\n",
    "        clf = SVC(gamma = gamma)\n",
    "        clf.fit(X_train, y_train)\n",
    "        scores.append(clf.score(X_test, y_test))\n",
    "    average_score = np.mean(scores)\n",
    "    print(gamma, average_score)\n",
    "    if average_score > best_score:\n",
    "        best_score = average_score\n",
    "        best_gamma = gamma\n",
    "        best_classifier = clf"
   ]
  },
  {
   "cell_type": "code",
   "execution_count": 147,
   "metadata": {},
   "outputs": [
    {
     "name": "stdout",
     "output_type": "stream",
     "text": [
      "The best gamma hyper parameter is: 0.01\n"
     ]
    },
    {
     "ename": "NameError",
     "evalue": "name 'score' is not defined",
     "output_type": "error",
     "traceback": [
      "\u001b[1;31m---------------------------------------------------------------------------\u001b[0m",
      "\u001b[1;31mNameError\u001b[0m                                 Traceback (most recent call last)",
      "\u001b[1;32m<ipython-input-147-1a44f23293b0>\u001b[0m in \u001b[0;36m<module>\u001b[1;34m\u001b[0m\n\u001b[0;32m     20\u001b[0m \u001b[1;33m\u001b[0m\u001b[0m\n\u001b[0;32m     21\u001b[0m \u001b[0mprint\u001b[0m\u001b[1;33m(\u001b[0m\u001b[1;34m\"The best gamma hyper parameter is: \"\u001b[0m \u001b[1;33m+\u001b[0m \u001b[0mstr\u001b[0m\u001b[1;33m(\u001b[0m\u001b[0mbest_gamma\u001b[0m\u001b[1;33m)\u001b[0m\u001b[1;33m)\u001b[0m\u001b[1;33m\u001b[0m\u001b[1;33m\u001b[0m\u001b[0m\n\u001b[1;32m---> 22\u001b[1;33m \u001b[0mprint\u001b[0m\u001b[1;33m(\u001b[0m\u001b[1;34m\"The best mean score is: \"\u001b[0m \u001b[1;33m+\u001b[0m \u001b[0mstr\u001b[0m\u001b[1;33m(\u001b[0m\u001b[0mscore\u001b[0m\u001b[1;33m)\u001b[0m\u001b[1;33m)\u001b[0m\u001b[1;33m\u001b[0m\u001b[1;33m\u001b[0m\u001b[0m\n\u001b[0m",
      "\u001b[1;31mNameError\u001b[0m: name 'score' is not defined"
     ]
    }
   ],
   "source": [
    "print(\"The best gamma hyper parameter is: \" + str(best_gamma))\n",
    "print(\"The best mean score is: \" + str(best_score))"
   ]
  },
  {
   "cell_type": "code",
   "execution_count": null,
   "metadata": {
    "scrolled": true
   },
   "outputs": [],
   "source": [
    "best_predict = best_classifier.predict(Test_X)\n",
    "best_accuracy = best_classifier.score(Test_X, Test_Y)\n",
    "precision, recall, f1 = precision_score(Test_Y, best_predict, average='micro'), recall_score(Test_Y, best_predict, average='micro'), f1_score(Test_Y, best_predict, average='micro')\n",
    "fpr, tpr, thresholds = metrics.roc_curve(Test_Y, best_predict)"
   ]
  },
  {
   "cell_type": "code",
   "execution_count": 37,
   "metadata": {},
   "outputs": [
    {
     "name": "stderr",
     "output_type": "stream",
     "text": [
      "c:\\program files\\python37\\lib\\site-packages\\sklearn\\linear_model\\_logistic.py:940: ConvergenceWarning: lbfgs failed to converge (status=1):\n",
      "STOP: TOTAL NO. of ITERATIONS REACHED LIMIT.\n",
      "\n",
      "Increase the number of iterations (max_iter) or scale the data as shown in:\n",
      "    https://scikit-learn.org/stable/modules/preprocessing.html\n",
      "Please also refer to the documentation for alternative solver options:\n",
      "    https://scikit-learn.org/stable/modules/linear_model.html#logistic-regression\n",
      "  extra_warning_msg=_LOGISTIC_SOLVER_CONVERGENCE_MSG)\n"
     ]
    },
    {
     "data": {
      "text/plain": [
       "LogisticRegression(C=1000000000000000.0, class_weight=None, dual=False,\n",
       "                   fit_intercept=True, intercept_scaling=1, l1_ratio=None,\n",
       "                   max_iter=1000, multi_class='auto', n_jobs=None, penalty='l2',\n",
       "                   random_state=None, solver='lbfgs', tol=0.0001, verbose=0,\n",
       "                   warm_start=False)"
      ]
     },
     "execution_count": 37,
     "metadata": {},
     "output_type": "execute_result"
    }
   ],
   "source": [
    "# Question 5\n",
    "from sklearn.linear_model import LogisticRegression\n",
    "\n",
    "logistic_model = LogisticRegression(C=1.0e15, max_iter=1000)\n",
    "logistic_model.fit(Train_X, Train_Y)"
   ]
  },
  {
   "cell_type": "code",
   "execution_count": 50,
   "metadata": {},
   "outputs": [
    {
     "name": "stdout",
     "output_type": "stream",
     "text": [
      "Logistic regression test accuracy: 0.6270578863515667\n",
      "Logistic regression train accuracy: 0.6914442283896058\n",
      "Overall precision: 0.6270578863515667\n",
      "Overall recall: 0.6270578863515667\n",
      "Overall f1 score: 0.6270578863515667\n",
      "\n",
      "Precision for label 'alt.atheism': 0.5252525252525253\n",
      "Recall for label 'alt.atheism': 0.4890282131661442\n",
      "f1 score for label 'alt.atheism': 0.5064935064935064\n",
      "Precision for label 'comp.graphics': 0.6046511627906976\n",
      "Recall for label 'comp.graphics': 0.6683804627249358\n",
      "f1 score for label 'comp.graphics': 0.6349206349206348\n",
      "Precision for label 'comp.os.ms-windows.misc': 0.597667638483965\n",
      "Recall for label 'comp.os.ms-windows.misc': 0.5203045685279187\n",
      "f1 score for label 'comp.os.ms-windows.misc': 0.5563093622795116\n",
      "Precision for label 'comp.sys.ibm.pc.hardware': 0.5094339622641509\n",
      "Recall for label 'comp.sys.ibm.pc.hardware': 0.413265306122449\n",
      "f1 score for label 'comp.sys.ibm.pc.hardware': 0.4563380281690141\n",
      "Precision for label 'comp.sys.mac.hardware': 0.516042780748663\n",
      "Recall for label 'comp.sys.mac.hardware': 0.5012987012987012\n",
      "f1 score for label 'comp.sys.mac.hardware': 0.5085638998682476\n",
      "Precision for label 'comp.windows.x': 0.7043010752688172\n",
      "Recall for label 'comp.windows.x': 0.6632911392405063\n",
      "f1 score for label 'comp.windows.x': 0.6831812255541069\n",
      "Precision for label 'misc.forsale': 0.4572564612326044\n",
      "Recall for label 'misc.forsale': 0.5897435897435898\n",
      "f1 score for label 'misc.forsale': 0.5151175811870101\n",
      "Precision for label 'rec.autos': 0.6330935251798561\n",
      "Recall for label 'rec.autos': 0.6666666666666666\n",
      "f1 score for label 'rec.autos': 0.6494464944649446\n",
      "Precision for label 'rec.motorcycles': 0.8236842105263158\n",
      "Recall for label 'rec.motorcycles': 0.7864321608040201\n",
      "f1 score for label 'rec.motorcycles': 0.8046272493573265\n",
      "Precision for label 'rec.sport.baseball': 0.6477272727272727\n",
      "Recall for label 'rec.sport.baseball': 0.7178841309823678\n",
      "f1 score for label 'rec.sport.baseball': 0.6810035842293907\n",
      "Precision for label 'rec.sport.hockey': 0.8115942028985508\n",
      "Recall for label 'rec.sport.hockey': 0.8421052631578947\n",
      "f1 score for label 'rec.sport.hockey': 0.8265682656826568\n",
      "Precision for label 'sci.crypt': 0.8125\n",
      "Recall for label 'sci.crypt': 0.7550505050505051\n",
      "f1 score for label 'sci.crypt': 0.7827225130890052\n",
      "Precision for label 'sci.electronics': 0.49722222222222223\n",
      "Recall for label 'sci.electronics': 0.455470737913486\n",
      "f1 score for label 'sci.electronics': 0.4754316069057105\n",
      "Precision for label 'sci.med': 0.6129753914988815\n",
      "Recall for label 'sci.med': 0.6919191919191919\n",
      "f1 score for label 'sci.med': 0.6500593119810202\n",
      "Precision for label 'sci.space': 0.7864321608040201\n",
      "Recall for label 'sci.space': 0.7944162436548223\n",
      "f1 score for label 'sci.space': 0.7904040404040403\n",
      "Precision for label 'soc.religion.christian': 0.5736434108527132\n",
      "Recall for label 'soc.religion.christian': 0.7437185929648241\n",
      "f1 score for label 'soc.religion.christian': 0.6477024070021882\n",
      "Precision for label 'talk.politics.guns': 0.5860215053763441\n",
      "Recall for label 'talk.politics.guns': 0.5989010989010989\n",
      "f1 score for label 'talk.politics.guns': 0.592391304347826\n",
      "Precision for label 'talk.politics.mideast': 0.8835820895522388\n",
      "Recall for label 'talk.politics.mideast': 0.7872340425531915\n",
      "f1 score for label 'talk.politics.mideast': 0.8326300984528832\n",
      "Precision for label 'talk.politics.misc': 0.44336569579288027\n",
      "Recall for label 'talk.politics.misc': 0.44193548387096776\n",
      "f1 score for label 'talk.politics.misc': 0.44264943457189015\n",
      "Precision for label 'talk.religion.misc': 0.3237410071942446\n",
      "Recall for label 'talk.religion.misc': 0.17928286852589642\n",
      "f1 score for label 'talk.religion.misc': 0.23076923076923075\n"
     ]
    }
   ],
   "source": [
    "print(\"Logistic regression test accuracy:\", logistic_model.score(Test_X, Test_Y))\n",
    "print(\"Logistic regression train accuracy:\", logistic_model.score(Train_X, Train_Y))\n",
    "\n",
    "Predicted_Y = logistic_model.predict(Test_X)\n",
    "precision = precision_score(Test_Y, Predicted_Y, average='micro')\n",
    "recall = recall_score(Test_Y, Predicted_Y, average='micro')\n",
    "f1 = f1_score(Test_Y, Predicted_Y, average='micro')\n",
    "\n",
    "print(\"Overall precision:\", precision)\n",
    "print(\"Overall recall:\", recall)\n",
    "print(\"Overall f1 score:\", f1)\n",
    "print()\n",
    "\n",
    "for label in range(20):\n",
    "\n",
    "    precision = precision_score(Test_Y == label, Predicted_Y == label)\n",
    "    recall = recall_score(Test_Y == label, Predicted_Y == label)\n",
    "    f1 = f1_score(Test_Y == label, Predicted_Y == label)\n",
    "\n",
    "    print(\"Precision for label '{}':\".format(target_names[label]), precision)\n",
    "    print(\"Recall for label '{}':\".format(target_names[label]), recall)\n",
    "    print(\"f1 score for label '{}':\".format(target_names[label]), f1)"
   ]
  },
  {
   "cell_type": "code",
   "execution_count": 49,
   "metadata": {},
   "outputs": [
    {
     "data": {
      "image/png": "[encoded data removed]",
      "text/plain": [
       "<Figure size 432x288 with 2 Axes>"
      ]
     },
     "metadata": {
      "needs_background": "light"
     },
     "output_type": "display_data"
    },
    {
     "name": "stdout",
     "output_type": "stream",
     "text": [
      "[[156   4   0   0   1   0   4   3   0   6   0   3   2   4   5  77   4   8\n",
      "   12  30]\n",
      " [  3 260  15   6  11  17  28   0   4   2   5   4  10  15   6   1   1   0\n",
      "    1   0]\n",
      " [  1  30 205  28  22  49  21   1   1   4   0   4   3  14   3   2   0   0\n",
      "    4   2]\n",
      " [  0  13  43 162  70   3  46   6   3   3   0   2  35   5   1   0   0   0\n",
      "    0   0]\n",
      " [  0  14  17  52 193   5  42   7   1   4   1   2  24  14   5   0   0   0\n",
      "    4   0]\n",
      " [  0  38  48   2   1 262  12   2   2   1   0   3   6   3   5   3   1   4\n",
      "    2   0]\n",
      " [  0   7   6  27  26   4 230  20   6  22   6   1  15   5   7   0   4   2\n",
      "    1   1]\n",
      " [  0   2   1   0   2   1  23 264  27   5   0   3  19  20  12   0   6   0\n",
      "   11   0]\n",
      " [  1   1   0   0   2   2  16  37 313   2   3   0   7   3   1   1   8   0\n",
      "    1   0]\n",
      " [  4   7   0   0   4   1  14   9   2 285  54   0   0   6   0   2   2   1\n",
      "    6   0]\n",
      " [  0   0   0   0   0   1   3   3   0  54 336   0   0   0   0   1   0   0\n",
      "    1   0]\n",
      " [  0   4   2   2   3   5   2   2   2   3   0 299  25  15   4   1  10   2\n",
      "   14   1]\n",
      " [  0  13   3  37  31   6  36  17  10  14   6  21 179   9   6   2   0   2\n",
      "    1   0]\n",
      " [  8  14   1   2   2   4   8  19   1  12   0   0  10 274  11  16   3   0\n",
      "   10   1]\n",
      " [  3  14   0   0   5   3   4   4   0   4   0   3   9  14 313   1   7   1\n",
      "    8   1]\n",
      " [ 38   3   1   0   0   1   5   2   2   0   1   1   1   3   2 296   1   1\n",
      "    2  38]\n",
      " [  8   0   0   0   1   0   7  16   4   6   0  14   8   9   1   9 218   3\n",
      "   50  10]\n",
      " [ 12   1   0   0   0   7   1   1   0   1   1   3   1   5   0   8   9 296\n",
      "   29   1]\n",
      " [ 10   2   0   0   0   1   1   2   2   9   0   4   1  16   8  15  84   9\n",
      "  137   9]\n",
      " [ 53   3   1   0   0   0   0   2   0   3   1   1   5  13   8  81  14   6\n",
      "   15  45]]\n"
     ]
    }
   ],
   "source": [
    "from sklearn.metrics import confusion_matrix\n",
    "conf_matrix = confusion_matrix(Test_Y, Predicted_Y)\n",
    "\n",
    "fig = plt.figure()\n",
    "ax = fig.add_subplot(111)\n",
    "cax = ax.matshow(conf_matrix)\n",
    "fig.colorbar(cax)\n",
    "plt.show()\n",
    "\n",
    "print(conf_matrix)"
   ]
  },
  {
   "cell_type": "code",
   "execution_count": 59,
   "metadata": {},
   "outputs": [
    {
     "name": "stdout",
     "output_type": "stream",
     "text": [
      "0.001\n",
      "0.01\n",
      "0.1\n",
      "1.0\n",
      "10.0\n",
      "100.0\n",
      "1000.0\n"
     ]
    }
   ],
   "source": [
    "import warnings\n",
    "warnings.filterwarnings('ignore')\n",
    "\n",
    "kf = KFold(n_splits=5)\n",
    "\n",
    "score_for_C_l2 = {}\n",
    "\n",
    "for C in np.geomspace(1e-3,1e3, num=7):\n",
    "    \n",
    "    kf_scores = []\n",
    "    \n",
    "    for train_ix, test_ix in kf.split(Train_X):\n",
    "        logistic_model = LogisticRegression(C=C, max_iter=100)\n",
    "        logistic_model.fit(Train_X[train_ix], Train_Y[train_ix])\n",
    "        kf_scores.append(logistic_model.score(Train_X[test_ix], Train_Y[test_ix]))\n",
    "        \n",
    "    score_for_C_l2[C] = np.mean(kf_scores)\n",
    "    print(\"Score for C=\",C,\":\",score_for_C_l2[C])"
   ]
  },
  {
   "cell_type": "code",
   "execution_count": 63,
   "metadata": {},
   "outputs": [
    {
     "name": "stdout",
     "output_type": "stream",
     "text": [
      "Best value of C: 10.0\n",
      "Accuracy for best value of C: 0.6620112969450893\n"
     ]
    },
    {
     "data": {
      "text/plain": [
       "{0.001: 0.6389418754710479,\n",
       " 0.01: 0.6633368145459205,\n",
       " 0.1: 0.6634253100174139,\n",
       " 1.0: 0.6615692493669546,\n",
       " 10.0: 0.6620112969450893,\n",
       " 100.0: 0.6622765880053276,\n",
       " 1000.0: 0.6623648099808827}"
      ]
     },
     "execution_count": 63,
     "metadata": {},
     "output_type": "execute_result"
    }
   ],
   "source": [
    "best_C_l2 = max(score_for_C_l2.keys(),key=score_for_C_l2.get)\n",
    "print(\"Best value of lambda for L2:\", 1/best_C_l2)\n",
    "\n",
    "best_logistic_model_l2 = LogisticRegression(C=best_C_l2, max_iter=100)\n",
    "best_logistic_model_l2.fit(Train_X, Train_Y)\n",
    "print(\"Test accuracy for best value of lambda for L2:\", best_logistic_model_l2.score(Test_X, Test_Y))"
   ]
  },
  {
   "cell_type": "code",
   "execution_count": 66,
   "metadata": {},
   "outputs": [
    {
     "name": "stdout",
     "output_type": "stream",
     "text": [
      "Score for C= 0.001 (L2): 0.374492362235212\n",
      "Score for C= 0.01 (L2): 0.4886865279417125\n",
      "Score for C= 0.1 (L2): 0.4992043612443752\n",
      "Score for C= 1.0 (L2): 0.4991158657728819\n",
      "Score for C= 10.0 (L2): 0.4993810396205752\n",
      "Score for C= 100.0 (L2): 0.49938111776227184\n",
      "Score for C= 1000.0 (L2): 0.49929262229077853\n"
     ]
    }
   ],
   "source": [
    "kf = KFold(n_splits=5)\n",
    "\n",
    "score_for_C_l1 = {}\n",
    "\n",
    "for C in np.geomspace(1e-3,1e3, num=7):\n",
    "    \n",
    "    kf_scores = []\n",
    "    \n",
    "    for train_ix, test_ix in kf.split(Train_X):\n",
    "        logistic_model = LogisticRegression(C=C, max_iter=100, penalty='l1', solver='saga')\n",
    "        logistic_model.fit(Train_X[train_ix], Train_Y[train_ix])\n",
    "        kf_scores.append(logistic_model.score(Train_X[test_ix], Train_Y[test_ix]))\n",
    "    \n",
    "    score_for_C_l1[C] = np.mean(kf_scores)\n",
    "    print(\"Score for C=\",C,\":\",score_for_C_l1[C])"
   ]
  },
  {
   "cell_type": "code",
   "execution_count": null,
   "metadata": {},
   "outputs": [
    {
     "name": "stdout",
     "output_type": "stream",
     "text": [
      "Best value of lambda for l1: 0.01\n"
     ]
    }
   ],
   "source": [
    "best_C_l1 = max(score_for_C_l1.keys(),key=score_for_C_l1.get)\n",
    "print(\"Best value of lambda for l1:\", 1/best_C_l1)\n",
    "\n",
    "best_logistic_model_l1 = LogisticRegression(C=best_C_l1, max_iter=100, penalty='l1', solver='saga')\n",
    "best_logistic_model_l1.fit(Train_X, Train_Y)\n",
    "print(\"Test accuracy for best value of lambda for l1:\", best_logistic_model_l1.score(Test_X, Test_Y))"
   ]
  }
 ],
 "metadata": {
  "kernelspec": {
   "display_name": "Python 3",
   "language": "python",
   "name": "python3"
  },
  "language_info": {
   "codemirror_mode": {
    "name": "ipython",
    "version": 3
   },
   "file_extension": ".py",
   "mimetype": "text/x-python",
   "name": "python",
   "nbconvert_exporter": "python",
   "pygments_lexer": "ipython3",
   "version": "3.7.3"
  }
 },
 "nbformat": 4,
 "nbformat_minor": 2
}
