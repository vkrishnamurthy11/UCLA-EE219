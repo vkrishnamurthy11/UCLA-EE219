{
 "cells": [
  {
   "cell_type": "code",
   "execution_count": 134,
   "metadata": {},
   "outputs": [],
   "source": [
    "import numpy as np\n",
    "np.random.seed(42)\n",
    "import random\n",
    "random.seed(42)\n",
    "from collections import Counter\n",
    "import operator\n",
    "import matplotlib.pyplot as plt\n",
    "from scipy.sparse.linalg import svds as svd\n",
    "\n",
    "from sklearn.decomposition import NMF\n",
    "\n",
    "from sklearn.datasets import fetch_20newsgroups\n",
    "from scipy.sparse.linalg import norm\n",
    "from scipy.sparse import csr_matrix as matrix\n",
    "\n",
    "# question 4\n",
    "from sklearn.svm import SVC\n",
    "from sklearn.metrics import f1_score\n",
    "from sklearn.metrics import precision_score\n",
    "from sklearn.metrics import recall_score\n",
    "from sklearn.metrics import roc_curve\n",
    "from sklearn.model_selection import cross_val_score\n",
    "from sklearn.model_selection import KFold\n",
    "import math"
   ]
  },
  {
   "cell_type": "code",
   "execution_count": 10,
   "metadata": {},
   "outputs": [
    {
     "data": {
      "image/png": "[encoded data removed]",
      "text/plain": [
       "<Figure size 432x288 with 1 Axes>"
      ]
     },
     "metadata": {
      "needs_background": "light"
     },
     "output_type": "display_data"
    }
   ],
   "source": [
    "#Question 1\n",
    "#Histogram containing the total number of training documents per category.\n",
    "\n",
    "newsgroups_train = fetch_20newsgroups(subset='train')\n",
    "newsgroups_test = fetch_20newsgroups(subset='test')\n",
    "targets = newsgroups_train.target\n",
    "target_names = newsgroups_train.target_names\n",
    "target_frequency = Counter(targets)\n",
    "target_frequency = sorted(target_frequency.items(), key=operator.itemgetter(1))\n",
    "labels = []\n",
    "freqs = []\n",
    "\n",
    "for e in target_frequency:\n",
    "    labels.append(target_names[e[0]])\n",
    "    freqs.append(e[1])\n",
    "# print(X)\n",
    "# print(Y)\n",
    "\n",
    "plt.bar(labels, freqs, align='center', alpha=0.5)\n",
    "plt.xticks(rotation=90)\n",
    "plt.ylabel(\"Number of Training Documents\")\n",
    "plt.title(\"Number of Training Documents per Category\")\n",
    "\n",
    "plt.show()\n"
   ]
  },
  {
   "cell_type": "code",
   "execution_count": 4,
   "metadata": {},
   "outputs": [],
   "source": [
    "from sklearn.feature_extraction.text import CountVectorizer\n",
    "\n",
    "vectorizer = CountVectorizer(stop_words='english')\n",
    "X = vectorizer.fit_transform(newsgroups_train.data[:2])\n",
    "# print(vectorizer.get_feature_names(), X)"
   ]
  },
  {
   "cell_type": "code",
   "execution_count": 5,
   "metadata": {},
   "outputs": [
    {
     "name": "stderr",
     "output_type": "stream",
     "text": [
      "[nltk_data] Downloading package wordnet to\n",
      "[nltk_data]     C:\\Users\\meet1\\AppData\\Roaming\\nltk_data...\n",
      "[nltk_data]   Package wordnet is already up-to-date!\n",
      "[nltk_data] Downloading package stopwords to\n",
      "[nltk_data]     C:\\Users\\meet1\\AppData\\Roaming\\nltk_data...\n",
      "[nltk_data]   Package stopwords is already up-to-date!\n"
     ]
    }
   ],
   "source": [
    "import re\n",
    "from nltk.stem import WordNetLemmatizer\n",
    "from nltk import word_tokenize\n",
    "import nltk\n",
    "nltk.download('wordnet')\n",
    "nltk.download('stopwords')\n",
    "\n",
    "lemmatizer = WordNetLemmatizer()\n",
    "stop_words = set(nltk.corpus.stopwords.words('english'))\n",
    "\n",
    "def no_num_tokenizer(document):\n",
    "    unlemmatized_words = [word for word in re.split('[^a-zA-Z]+', document) if len(word)>2]\n",
    "    words = [lemmatizer.lemmatize(word) for word in unlemmatized_words if word not in stop_words]\n",
    "    return words"
   ]
  },
  {
   "cell_type": "markdown",
   "metadata": {},
   "source": [
    "This is a really bad lemmatizer. It does nothing except for changing plurals to their singular form"
   ]
  },
  {
   "cell_type": "code",
   "execution_count": 119,
   "metadata": {},
   "outputs": [],
   "source": [
    "from sklearn.feature_extraction.text import CountVectorizer, TfidfVectorizer\n",
    "from nltk.stem import WordNetLemmatizer\n",
    "\n",
    "vectorizer = CountVectorizer(stop_words=None, tokenizer=no_num_tokenizer, min_df=3)\n",
    "tf_train = vectorizer.fit_transform(newsgroups_train.data)\n",
    "\n",
    "tf_test = vectorizer.transform(newsgroups_test.data)"
   ]
  },
  {
   "cell_type": "code",
   "execution_count": 121,
   "metadata": {},
   "outputs": [],
   "source": [
    "df_train = (tf_train>0).sum(axis=0).flatten()\n",
    "idf_train = np.log(tf_train.shape[0]/df_train)+1\n",
    "\n",
    "# df_test = (tf_test>0).sum(axis=0).flatten()\n",
    "# idf_test = np.log(tf_train.shape[0]/df_train)+1\n",
    "# https://stats.stackexchange.com/questions/154660/tfidfvectorizer-should-it-be-used-on-train-only-or-traintest\n",
    "\n",
    "df_test = (tf_test>0).sum(axis=0).flatten()\n",
    "# idf_test = np.log(tf_train.shape[0]/df_test)+1"
   ]
  },
  {
   "cell_type": "code",
   "execution_count": 8,
   "metadata": {},
   "outputs": [
    {
     "name": "stdout",
     "output_type": "stream",
     "text": [
      "(11314, 29930)\n"
     ]
    }
   ],
   "source": [
    "tf_idf_train = tf_train.copy().astype(float)\n",
    "\n",
    "for i in range(tf_train.shape[1]):\n",
    "    tf_idf_train[:,i] = tf_train[:,i] * idf_train[0,i]\n",
    "\n",
    "print(tf_idf_train.shape)"
   ]
  },
  {
   "cell_type": "code",
   "execution_count": 122,
   "metadata": {},
   "outputs": [
    {
     "name": "stdout",
     "output_type": "stream",
     "text": [
      "(7532, 29930)\n"
     ]
    }
   ],
   "source": [
    "tf_idf_test = tf_test.copy().astype(float)\n",
    "\n",
    "for i in range(tf_test.shape[1]):\n",
    "    tf_idf_test[:,i] = tf_test[:,i] * idf_train[0,i]\n",
    "\n",
    "print(tf_idf_test.shape)"
   ]
  },
  {
   "cell_type": "code",
   "execution_count": 123,
   "metadata": {},
   "outputs": [
    {
     "ename": "TypeError",
     "evalue": "sparse matrix length is ambiguous; use getnnz() or shape[0]",
     "output_type": "error",
     "traceback": [
      "\u001b[1;31m---------------------------------------------------------------------------\u001b[0m",
      "\u001b[1;31mTypeError\u001b[0m                                 Traceback (most recent call last)",
      "\u001b[1;32m<ipython-input-123-bac03cc70c12>\u001b[0m in \u001b[0;36m<module>\u001b[1;34m\u001b[0m\n\u001b[1;32m----> 1\u001b[1;33m \u001b[0mnp\u001b[0m\u001b[1;33m.\u001b[0m\u001b[0mrandom\u001b[0m\u001b[1;33m.\u001b[0m\u001b[0mshuffle\u001b[0m\u001b[1;33m(\u001b[0m\u001b[0mtf_idf_train\u001b[0m\u001b[1;33m)\u001b[0m\u001b[1;33m\u001b[0m\u001b[1;33m\u001b[0m\u001b[0m\n\u001b[0m",
      "\u001b[1;32mmtrand.pyx\u001b[0m in \u001b[0;36mnumpy.random.mtrand.RandomState.shuffle\u001b[1;34m()\u001b[0m\n",
      "\u001b[1;32mc:\\program files\\python37\\lib\\site-packages\\scipy\\sparse\\base.py\u001b[0m in \u001b[0;36m__len__\u001b[1;34m(self)\u001b[0m\n\u001b[0;32m    293\u001b[0m     \u001b[1;31m# non-zeros is more important.  For now, raise an exception!\u001b[0m\u001b[1;33m\u001b[0m\u001b[1;33m\u001b[0m\u001b[1;33m\u001b[0m\u001b[0m\n\u001b[0;32m    294\u001b[0m     \u001b[1;32mdef\u001b[0m \u001b[0m__len__\u001b[0m\u001b[1;33m(\u001b[0m\u001b[0mself\u001b[0m\u001b[1;33m)\u001b[0m\u001b[1;33m:\u001b[0m\u001b[1;33m\u001b[0m\u001b[1;33m\u001b[0m\u001b[0m\n\u001b[1;32m--> 295\u001b[1;33m         raise TypeError(\"sparse matrix length is ambiguous; use getnnz()\"\n\u001b[0m\u001b[0;32m    296\u001b[0m                         \" or shape[0]\")\n\u001b[0;32m    297\u001b[0m \u001b[1;33m\u001b[0m\u001b[0m\n",
      "\u001b[1;31mTypeError\u001b[0m: sparse matrix length is ambiguous; use getnnz() or shape[0]"
     ]
    }
   ],
   "source": [
    "# np.random.shuffle(tf_idf_train)"
   ]
  },
  {
   "cell_type": "code",
   "execution_count": 124,
   "metadata": {},
   "outputs": [],
   "source": [
    "X_train = tf_idf_train\n",
    "X_test = tf_idf_test\n",
    "\n",
    "k = 50\n",
    "\n",
    "Uk, s, VT = svd(X_train,k=k) #X is TF-IDF matrix from problem 2\n",
    "# s[::-1].sort() # use this method or the one below\n",
    "\n",
    "# Vk = VT.transpose()\n",
    "\n",
    "\n",
    "X_train_lsa = Uk.dot(np.diag(s).dot(VT))"
   ]
  },
  {
   "cell_type": "code",
   "execution_count": 54,
   "metadata": {},
   "outputs": [
    {
     "name": "stdout",
     "output_type": "stream",
     "text": [
      "violation: 1.0\n",
      "violation: 4.264327833779457\n",
      "violation: 0.5377123473627514\n",
      "violation: 0.2936458792338207\n",
      "violation: 0.2153865293376489\n",
      "violation: 0.17126887235773475\n",
      "violation: 0.11756693762881346\n",
      "violation: 0.08241238581648522\n",
      "violation: 0.06043244636435165\n",
      "violation: 0.04658140951022444\n",
      "violation: 0.03901704464386055\n",
      "violation: 0.03101849531940079\n",
      "violation: 0.024854401923134588\n",
      "violation: 0.021039475441079467\n",
      "violation: 0.01831309344784843\n",
      "violation: 0.01633033136505475\n",
      "violation: 0.014800379165482961\n",
      "violation: 0.013850697130222564\n",
      "violation: 0.01325009687380042\n",
      "violation: 0.013034828677786806\n",
      "violation: 0.012964238075638604\n",
      "violation: 0.01328575720487737\n",
      "violation: 0.014935942632840506\n",
      "violation: 0.015620699691475755\n",
      "violation: 0.013746291135790886\n",
      "violation: 0.011106366808165092\n",
      "violation: 0.009223531215810377\n",
      "violation: 0.007790206328873399\n",
      "violation: 0.006753113176150943\n",
      "violation: 0.005952079476283421\n",
      "violation: 0.005349815048906964\n",
      "violation: 0.004793834674298556\n",
      "violation: 0.004344216538010441\n",
      "violation: 0.003981069454585397\n",
      "violation: 0.00369844214707385\n",
      "violation: 0.0034793477191680166\n",
      "violation: 0.0033104892211729764\n",
      "violation: 0.0031725355504214456\n",
      "violation: 0.003047831744028491\n",
      "violation: 0.002956096832055105\n",
      "violation: 0.0028824233662559464\n",
      "violation: 0.0028066558263978125\n",
      "violation: 0.00274782165718074\n",
      "violation: 0.002697976967962414\n",
      "violation: 0.00250231758126467\n",
      "violation: 0.002394327852203484\n",
      "violation: 0.0023936900821944366\n",
      "violation: 0.002213468601619905\n",
      "violation: 0.0022014725012093847\n",
      "violation: 0.0021958832503634774\n",
      "violation: 0.0021972526867290814\n",
      "violation: 0.002204601968284409\n",
      "violation: 0.002209131767696707\n",
      "violation: 0.0022048229609106986\n",
      "violation: 0.0022294867367296184\n",
      "violation: 0.0022560522589804006\n",
      "violation: 0.002296583430648457\n",
      "violation: 0.0023691866449349285\n",
      "violation: 0.0024661341633100756\n",
      "violation: 0.0025740090442489664\n",
      "violation: 0.002699448791261233\n",
      "violation: 0.0028839120434431187\n",
      "violation: 0.003095735408404981\n",
      "violation: 0.003267278344393483\n",
      "violation: 0.0031903332162907627\n",
      "violation: 0.0028769512397659293\n",
      "violation: 0.002508578932994029\n",
      "violation: 0.0021151998274925956\n",
      "violation: 0.002292373776537891\n",
      "violation: 0.002196419764295208\n",
      "violation: 0.0020929964779748678\n",
      "violation: 0.002007771485278842\n",
      "violation: 0.0019287474184923683\n",
      "violation: 0.0018643259790682687\n",
      "violation: 0.0018103328489569841\n",
      "violation: 0.0017604241325370842\n",
      "violation: 0.001715174625532811\n",
      "violation: 0.001677582260368831\n",
      "violation: 0.0016469788791515887\n",
      "violation: 0.0016145956034896442\n",
      "violation: 0.0015841675775282273\n",
      "violation: 0.0015578137097861703\n",
      "violation: 0.0015317515628707134\n",
      "violation: 0.001509455195491726\n",
      "violation: 0.001490128537150611\n",
      "violation: 0.0014719808194063923\n",
      "violation: 0.0014509383489506012\n",
      "violation: 0.0014347205658981612\n",
      "violation: 0.0014279516095607292\n",
      "violation: 0.0014268369978485502\n",
      "violation: 0.0014292869737702692\n",
      "violation: 0.0014340820403846942\n",
      "violation: 0.0014437503767457192\n",
      "violation: 0.0014540530579819865\n",
      "violation: 0.0014665892051375223\n",
      "violation: 0.001478649319676079\n",
      "violation: 0.0014841049965844393\n",
      "violation: 0.0014956663684186813\n",
      "violation: 0.001508520567003907\n",
      "violation: 0.001521618069485976\n",
      "violation: 0.0015345355419273902\n",
      "violation: 0.0015431357651374009\n",
      "violation: 0.001549132365999952\n",
      "violation: 0.0015560574621237883\n",
      "violation: 0.0015292451012531795\n",
      "violation: 0.00152340651780354\n",
      "violation: 0.001506038866342288\n",
      "violation: 0.0014765517463627693\n",
      "violation: 0.0014543642007524137\n",
      "violation: 0.0014503266236140268\n",
      "violation: 0.0014068634595714557\n",
      "violation: 0.00135700827461212\n",
      "violation: 0.0013045874882697697\n",
      "violation: 0.0012517798311859668\n",
      "violation: 0.0011996585705903282\n",
      "violation: 0.001146466124418535\n",
      "violation: 0.0010953804270438172\n",
      "violation: 0.0010471669308604772\n",
      "violation: 0.0010035491936563324\n",
      "violation: 0.0009630418085538574\n",
      "violation: 0.000930654740082575\n",
      "violation: 0.0009043057028029853\n",
      "violation: 0.0008825538441840483\n",
      "violation: 0.0008648369990193503\n",
      "violation: 0.0008497523332729764\n",
      "violation: 0.0008388934719282586\n",
      "violation: 0.0008317604407433682\n",
      "violation: 0.0008272702754361019\n",
      "violation: 0.0008248133936074483\n",
      "violation: 0.0008241223946496007\n",
      "violation: 0.00082482492027628\n",
      "violation: 0.0008265770150953901\n",
      "violation: 0.0008301254929120999\n",
      "violation: 0.0008349085532674853\n",
      "violation: 0.0008413526542035161\n",
      "violation: 0.000849890860276402\n",
      "violation: 0.0008594889605218024\n",
      "violation: 0.0008699744222129167\n",
      "violation: 0.0008811701040015254\n",
      "violation: 0.0008932635802896288\n",
      "violation: 0.0009090431857805318\n",
      "violation: 0.0009264476447178941\n",
      "violation: 0.0009454258977250118\n",
      "violation: 0.000965075240891329\n",
      "violation: 0.0009839220350355048\n",
      "violation: 0.0010061719646154105\n",
      "violation: 0.0010303409367682925\n",
      "violation: 0.0010555071185332362\n",
      "violation: 0.0010830088786155838\n",
      "violation: 0.0011132233714857159\n",
      "violation: 0.001147625974469213\n",
      "violation: 0.001189159430655924\n",
      "violation: 0.0012390756214749193\n",
      "violation: 0.0012894369997422349\n",
      "violation: 0.0013440836215060812\n",
      "violation: 0.0014059448694304993\n",
      "violation: 0.0014711798686078844\n",
      "violation: 0.0015772117484919351\n",
      "violation: 0.0016654623422327143\n",
      "violation: 0.001735673763738318\n",
      "violation: 0.0017887761779021125\n",
      "violation: 0.00181191745566961\n",
      "violation: 0.001884856854253192\n",
      "violation: 0.001955838347403881\n",
      "violation: 0.002026367256172761\n",
      "violation: 0.0021004094970646\n",
      "violation: 0.002172648398955712\n",
      "violation: 0.002235456038277115\n",
      "violation: 0.0022699192807766255\n",
      "violation: 0.002306161936131394\n",
      "violation: 0.0023471788957691695\n",
      "violation: 0.002408220997197742\n",
      "violation: 0.0024789814761518067\n",
      "violation: 0.002539405075029865\n",
      "violation: 0.002579123371255637\n",
      "violation: 0.0025910973131256414\n",
      "violation: 0.0025720093970606254\n",
      "violation: 0.002537265569609273\n",
      "violation: 0.0024831143994512874\n",
      "violation: 0.0023954256026978787\n",
      "violation: 0.0022651609029134\n",
      "violation: 0.0020884316461332137\n",
      "violation: 0.0018426164576396688\n",
      "violation: 0.0015963867667112698\n",
      "violation: 0.0013511878058120894\n",
      "violation: 0.0010880741867554822\n",
      "violation: 0.0009352791134020448\n",
      "violation: 0.0008114964852285298\n",
      "violation: 0.0007121876324789659\n",
      "violation: 0.0006323552838901518\n",
      "violation: 0.0005678155303499206\n",
      "violation: 0.0005152326726752653\n",
      "violation: 0.00047219558005726087\n",
      "violation: 0.00043675078609856446\n",
      "violation: 0.0004074720669515917\n",
      "violation: 0.0003831154769021009\n",
      "violation: 0.00036281827391981386\n",
      "violation: 0.000345874017879514\n",
      "violation: 0.00033170727041734584\n",
      "violation: 0.000319789221407265\n"
     ]
    }
   ],
   "source": [
    "#NMF\n",
    "# https://scikit-learn.org/stable/modules/generated/sklearn.decomposition.NMF.html\n",
    "model = NMF(n_components=k, init='random', random_state=0)\n",
    "W = model.fit_transform(X_train)\n",
    "H = model.components_\n",
    "\n",
    "X_train_nmf = np.matmul(W, H)"
   ]
  },
  {
   "cell_type": "code",
   "execution_count": 108,
   "metadata": {},
   "outputs": [
    {
     "data": {
      "text/plain": [
       "(11314, 29930)"
      ]
     },
     "execution_count": 108,
     "metadata": {},
     "output_type": "execute_result"
    }
   ],
   "source": [
    "# n,m = X_train.shape\n",
    "\n",
    "# fnorm_lsa = 0.0\n",
    "# fnorm_nmf = 0.0\n",
    "\n",
    "# for i in range(n):\n",
    "    \n",
    "#     print(i)\n",
    "#     for j in range(m):\n",
    "#         fnorm_lsa += (X_train[i,j]-X_train_lsa[i,j])**2\n",
    "#         fnorm_nmf += (X_train[i,j]-X_train_nmf[i,j])**2\n",
    "\n",
    "# ((matrix(X_train_lsa)-matrix(X_train))**2).sum()\n",
    "\n",
    "# X_train_nmf.shape"
   ]
  },
  {
   "cell_type": "code",
   "execution_count": 128,
   "metadata": {},
   "outputs": [],
   "source": [
    "X_train_reduced = X_train.dot(VT.T)\n",
    "X_test_reduced = X_test.dot(VT.T)"
   ]
  },
  {
   "cell_type": "code",
   "execution_count": 131,
   "metadata": {},
   "outputs": [],
   "source": [
    "#Problem 4 SVM\n",
    "\n",
    "Train_X = X_train_reduced\n",
    "Train_Y = newsgroups_train.target\n",
    "Test_X = X_test_reduced\n",
    "Test_Y = newsgroups_test.target"
   ]
  },
  {
   "cell_type": "code",
   "execution_count": 132,
   "metadata": {},
   "outputs": [
    {
     "data": {
      "text/plain": [
       "SVC(C=1.0, break_ties=False, cache_size=200, class_weight=None, coef0=0.0,\n",
       "    decision_function_shape='ovr', degree=3, gamma=0.0001, kernel='rbf',\n",
       "    max_iter=-1, probability=False, random_state=None, shrinking=True,\n",
       "    tol=0.001, verbose=False)"
      ]
     },
     "execution_count": 132,
     "metadata": {},
     "output_type": "execute_result"
    }
   ],
   "source": [
    "soft_svm = SVC(gamma = 0.0001)\n",
    "soft_svm.fit(Train_X, Train_Y)"
   ]
  },
  {
   "cell_type": "code",
   "execution_count": 143,
   "metadata": {},
   "outputs": [
    {
     "data": {
      "text/plain": [
       "0.5167933533675093"
      ]
     },
     "execution_count": 143,
     "metadata": {},
     "output_type": "execute_result"
    }
   ],
   "source": [
    "soft_svm.score(Train_X, Train_Y)"
   ]
  },
  {
   "cell_type": "code",
   "execution_count": 138,
   "metadata": {},
   "outputs": [
    {
     "name": "stdout",
     "output_type": "stream",
     "text": [
      "The soft SVM accuracy is: 0.459506107275624\n",
      "Soft SVM f1 score: 0.459506107275624\n"
     ]
    }
   ],
   "source": [
    "Y_predict_soft = soft_svm.predict(Test_X)\n",
    "soft_accuracy = soft_svm.score(Test_X, Test_Y)\n",
    "soft_precision, soft_recall, soft_f1 = precision_score(Test_Y, Y_predict_soft, average='micro'), recall_score(Test_Y, Y_predict_soft, average='micro'), f1_score(Test_Y, Y_predict_soft, average='micro')\n",
    "# soft_fpr, soft_tpr, soft_thresholds = roc_curve(Test_Y, Y_predict_soft)\n",
    "print(\"The soft SVM accuracy is:\", soft_accuracy)\n",
    "print(\"Soft SVM f1 score:\", soft_f1)"
   ]
  },
  {
   "cell_type": "code",
   "execution_count": 141,
   "metadata": {},
   "outputs": [
    {
     "data": {
      "text/plain": [
       "SVC(C=1.0, break_ties=False, cache_size=200, class_weight=None, coef0=0.0,\n",
       "    decision_function_shape='ovr', degree=3, gamma=1000, kernel='rbf',\n",
       "    max_iter=-1, probability=False, random_state=None, shrinking=True,\n",
       "    tol=0.001, verbose=False)"
      ]
     },
     "execution_count": 141,
     "metadata": {},
     "output_type": "execute_result"
    }
   ],
   "source": [
    "hard_svm = SVC(gamma = 1000)\n",
    "hard_svm.fit(Train_X, Train_Y)"
   ]
  },
  {
   "cell_type": "code",
   "execution_count": 142,
   "metadata": {},
   "outputs": [
    {
     "name": "stdout",
     "output_type": "stream",
     "text": [
      "The hard SVM accuracy is: 0.054168879447689854\n",
      "Hard SVM f1 score: 0.054168879447689854\n"
     ]
    }
   ],
   "source": [
    "Y_predict_hard = hard_svm.predict(Test_X)\n",
    "hard_accuracy = hard_svm.score(Test_X, Test_Y)\n",
    "hard_precision, hard_recall, hard_f1 = precision_score(Test_Y, Y_predict_hard, average='micro'), recall_score(Test_Y, Y_predict_hard, average='micro'), f1_score(Test_Y, Y_predict_hard, average='micro')\n",
    "# hard_fpr, hard_tpr, hard_thresholds = metrics.roc_curve(Test_Y, Y_predict_hard)\n",
    "\n",
    "print(\"The hard SVM accuracy is:\", hard_accuracy)\n",
    "print(\"Hard SVM f1 score:\", hard_f1)"
   ]
  },
  {
   "cell_type": "code",
   "execution_count": 147,
   "metadata": {},
   "outputs": [
    {
     "name": "stdout",
     "output_type": "stream",
     "text": [
      "The best gamma hyper parameter is: 0.01\n"
     ]
    },
    {
     "ename": "NameError",
     "evalue": "name 'score' is not defined",
     "output_type": "error",
     "traceback": [
      "\u001b[1;31m---------------------------------------------------------------------------\u001b[0m",
      "\u001b[1;31mNameError\u001b[0m                                 Traceback (most recent call last)",
      "\u001b[1;32m<ipython-input-147-1a44f23293b0>\u001b[0m in \u001b[0;36m<module>\u001b[1;34m\u001b[0m\n\u001b[0;32m     20\u001b[0m \u001b[1;33m\u001b[0m\u001b[0m\n\u001b[0;32m     21\u001b[0m \u001b[0mprint\u001b[0m\u001b[1;33m(\u001b[0m\u001b[1;34m\"The best gamma hyper parameter is: \"\u001b[0m \u001b[1;33m+\u001b[0m \u001b[0mstr\u001b[0m\u001b[1;33m(\u001b[0m\u001b[0mbest_gamma\u001b[0m\u001b[1;33m)\u001b[0m\u001b[1;33m)\u001b[0m\u001b[1;33m\u001b[0m\u001b[1;33m\u001b[0m\u001b[0m\n\u001b[1;32m---> 22\u001b[1;33m \u001b[0mprint\u001b[0m\u001b[1;33m(\u001b[0m\u001b[1;34m\"The best mean score is: \"\u001b[0m \u001b[1;33m+\u001b[0m \u001b[0mstr\u001b[0m\u001b[1;33m(\u001b[0m\u001b[0mscore\u001b[0m\u001b[1;33m)\u001b[0m\u001b[1;33m)\u001b[0m\u001b[1;33m\u001b[0m\u001b[1;33m\u001b[0m\u001b[0m\n\u001b[0m",
      "\u001b[1;31mNameError\u001b[0m: name 'score' is not defined"
     ]
    }
   ],
   "source": [
    "best_score = 0.0\n",
    "best_gamma = None\n",
    "best_classifier = None\n",
    "\n",
    "kf = KFold(n_splits=5)\n",
    "for i in range(-3, 4, 1):\n",
    "    scores = []\n",
    "    gamma = pow(10, i)\n",
    "    for train_index, test_index in kf.split(Train_X):\n",
    "        X_train, X_test = Train_X[train_index], Train_X[test_index]\n",
    "        y_train, y_test = Train_Y[train_index], Train_Y[test_index]\n",
    "        clf = SVC(gamma = gamma)\n",
    "        clf.fit(X_train, y_train)\n",
    "        scores.append(clf.score(X_test, y_test))\n",
    "    average_score = np.mean(scores)\n",
    "    print(gamma, average_score)\n",
    "    if average_score > best_score:\n",
    "        best_score = average_score\n",
    "        best_gamma = gamma\n",
    "        best_classifier = clf\n",
    "\n",
    "print(\"The best gamma hyper parameter is: \" + str(best_gamma))\n",
    "print(\"The best mean score is: \" + str(score))"
   ]
  },
  {
   "cell_type": "code",
   "execution_count": null,
   "metadata": {
    "scrolled": true
   },
   "outputs": [],
   "source": [
    "best_predict = best_classifier.predict(Test_X)\n",
    "best_accuracy = best_classifier.score(Test_X, Test_Y)\n",
    "precision, recall, f1 = precision_score(Test_Y, best_predict, average='micro'), recall_score(Test_Y, best_predict, average='micro'), f1_score(Test_Y, best_predict, average='micro')\n",
    "fpr, tpr, thresholds = metrics.roc_curve(Test_Y, best_predict)"
   ]
  },
  {
   "cell_type": "code",
   "execution_count": null,
   "metadata": {},
   "outputs": [],
   "source": []
  }
 ],
 "metadata": {
  "kernelspec": {
   "display_name": "Python 3",
   "language": "python",
   "name": "python3"
  }
 },
 "nbformat": 4,
 "nbformat_minor": 2
}
